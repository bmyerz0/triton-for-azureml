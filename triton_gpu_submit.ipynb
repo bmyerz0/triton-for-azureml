{
  "cells": [
    {
      "cell_type": "code",
      "source": [
        "from azure.ai.ml import MLClient\r\n",
        "from azure.identity import DefaultAzureCredential\r\n",
        "\r\n",
        "# authenticate\r\n",
        "credential = DefaultAzureCredential()\r\n",
        "\r\n",
        "# Get a handle to the workspace\r\n",
        "ml_client = MLClient(\r\n",
        "    credential=credential,\r\n",
        "    subscription_id=\"YOUR-SUBSCRIPTION-ID\",\r\n",
        "    resource_group_name=\"YOUR-RESOURCE-GROUP-NAME\",\r\n",
        "    workspace_name=\"YOUR-WORKSPACE-NAME\",\r\n",
        ")"
      ],
      "outputs": [],
      "execution_count": 1,
      "metadata": {
        "gather": {
          "logged": 1686760792086
        }
      }
    },
    {
      "cell_type": "code",
      "source": [
        "from azure.ai.ml import command\r\n",
        "from azure.ai.ml import Input\r\n",
        "\r\n",
        "# create the job configuration\r\n",
        "# construction of this command is based on \r\n",
        "# https://github.com/Azure/azureml-examples/blob/main/tutorials/e2e-distributed-pytorch-image/e2e-object-classification-distributed-pytorch.ipynb\r\n",
        "job = command(\r\n",
        "    inputs=dict(), # not used but if you need to pass parameters to the command, you can put them here (see the tutorials)\r\n",
        "    code=\"./src/\",  # location of source code\r\n",
        "    \r\n",
        "    #command=\"python vector-add.py\",\r\n",
        "    command=\"python activation.py\", # what command to run on the compute cluster node\r\n",
        "    #command=\"python 02-fused-softmax.py\",\r\n",
        "\r\n",
        "    environment=\"acpt-triton-2@latest\", # what environment the compute cluster node will be running\r\n",
        "    compute=\"v100\", # the name of our Compute Cluster\r\n",
        "    display_name=\"triton_gpu\", # job name, feel free to change\r\n",
        "    distribution={ # how the job will be distributed over the compute cluster\r\n",
        "        \"type\": \"PyTorch\",\r\n",
        "        \"process_count_per_instance\": 1,\r\n",
        "    },\r\n",
        "    # number of cluster nodes to use\r\n",
        "    instance_count=1\r\n",
        ")\r\n",
        "\r\n",
        "# submit the job to the cluster\r\n",
        "ml_client.create_or_update(job)"
      ],
      "outputs": [
        {
          "output_type": "execute_result",
          "execution_count": 11,
          "data": {
            "text/plain": "Command({'parameters': {}, 'init': False, 'type': 'command', 'status': 'Starting', 'log_files': None, 'name': 'ashy_holiday_vx9lf99yfx', 'description': None, 'tags': {}, 'properties': {'_azureml.ComputeTargetType': 'amlctrain', 'ContentSnapshotId': '15bb2cfa-1961-4ea3-ade7-2bf753b934b9'}, 'print_as_yaml': True, 'id': '/subscriptions/ed2cab61-14cc-4fb3-ac23-d72609214cfd/resourceGroups/AMLDataCache/providers/Microsoft.MachineLearningServices/workspaces/datacachetest/jobs/ashy_holiday_vx9lf99yfx', 'Resource__source_path': None, 'base_path': '/mnt/batch/tasks/shared/LS_root/mounts/clusters/brandonmyers/code/Users/brandonmyers/triton-examples', 'creation_context': <azure.ai.ml.entities._system_data.SystemData object at 0x7f7cc9ef7dc0>, 'serialize': <msrest.serialization.Serializer object at 0x7f7cc9ef7df0>, 'allowed_keys': {}, 'key_restriction': False, 'logger': <Logger attr_dict (WARNING)>, 'display_name': 'triton_gpu', 'experiment_name': 'triton-examples', 'compute': 'v100', 'services': {'Tracking': <azure.ai.ml.entities._job.job_service.JobService object at 0x7f7cc8bf07f0>, 'Studio': <azure.ai.ml.entities._job.job_service.JobService object at 0x7f7cc2d508b0>}, 'comment': None, 'job_inputs': {}, 'job_outputs': {'default': {'type': 'uri_folder', 'path': 'azureml://datastores/workspaceartifactstore/ExperimentRun/dcid.ashy_holiday_vx9lf99yfx', 'mode': 'rw_mount'}}, 'inputs': {}, 'outputs': {'default': <azure.ai.ml.entities._job.pipeline._io.base.NodeOutput object at 0x7f7cc9ef7e80>}, 'component': CommandComponent({'auto_increment_version': True, 'source': 'REMOTE.WORKSPACE.JOB', 'is_anonymous': False, 'name': 'ashy_holiday_vx9lf99yfx', 'description': None, 'tags': {}, 'properties': {}, 'print_as_yaml': True, 'id': None, 'Resource__source_path': None, 'base_path': PosixPath('.'), 'creation_context': <azure.ai.ml.entities._system_data.SystemData object at 0x7f7cc9ef7dc0>, 'serialize': <msrest.serialization.Serializer object at 0x7f7cc9ef5c00>, 'command': 'python activation.py', 'code': '/subscriptions/ed2cab61-14cc-4fb3-ac23-d72609214cfd/resourceGroups/AMLDataCache/providers/Microsoft.MachineLearningServices/workspaces/datacachetest/codes/fa0209aa-8686-422b-ae5e-a702ed2e2f45/versions/1', 'environment_variables': {}, 'environment': '/subscriptions/ed2cab61-14cc-4fb3-ac23-d72609214cfd/resourceGroups/AMLDataCache/providers/Microsoft.MachineLearningServices/workspaces/datacachetest/environments/acpt-triton-2/versions/2', 'distribution': <azure.ai.ml.entities._job.distribution.PyTorchDistribution object at 0x7f7cc9ef7cd0>, 'resources': None, 'queue_settings': None, 'version': None, 'latest_version': None, 'schema': None, 'type': 'command', 'display_name': 'triton_gpu', 'is_deterministic': True, 'inputs': {}, 'outputs': {'default': {'type': 'uri_folder', 'path': 'azureml://datastores/workspaceartifactstore/ExperimentRun/dcid.ashy_holiday_vx9lf99yfx', 'mode': 'rw_mount'}}, 'yaml_str': None, 'other_parameter': {'status': 'Starting', 'parameters': {}}}), 'referenced_control_flow_node_instance_id': None, 'kwargs': {'services': {'Tracking': <azure.ai.ml.entities._job.job_service.JobService object at 0x7f7cc8bf07f0>, 'Studio': <azure.ai.ml.entities._job.job_service.JobService object at 0x7f7cc2d508b0>}, 'status': 'Starting', 'creation_context': <azure.ai.ml.entities._system_data.SystemData object at 0x7f7cc9ef7dc0>}, 'instance_id': '996fb8bd-7317-4a9f-a870-8051a8c32da0', 'source': 'BUILDER', 'validate_required_input_not_provided': True, 'limits': None, 'identity': None, 'distribution': <azure.ai.ml.entities._job.distribution.PyTorchDistribution object at 0x7f7cc9ef7cd0>, 'environment_variables': {}, 'environment': 'acpt-triton-2:2', 'resources': {'instance_count': 1, 'shm_size': '2g'}, 'queue_settings': None, 'swept': False})",
            "text/html": "<table style=\"width:100%\"><tr><th>Experiment</th><th>Name</th><th>Type</th><th>Status</th><th>Details Page</th></tr><tr><td>triton-examples</td><td>ashy_holiday_vx9lf99yfx</td><td>command</td><td>Starting</td><td><a href=\"https://ml.azure.com/runs/ashy_holiday_vx9lf99yfx?wsid=/subscriptions/ed2cab61-14cc-4fb3-ac23-d72609214cfd/resourcegroups/AMLDataCache/workspaces/datacachetest&amp;tid=72f988bf-86f1-41af-91ab-2d7cd011db47\" target=\"_blank\" rel=\"noopener\">Link to Azure Machine Learning studio</a></td></tr></table>"
          },
          "metadata": {}
        }
      ],
      "execution_count": 11,
      "metadata": {
        "jupyter": {
          "source_hidden": false,
          "outputs_hidden": false
        },
        "nteract": {
          "transient": {
            "deleting": false
          }
        },
        "gather": {
          "logged": 1686766046399
        }
      }
    }
  ],
  "metadata": {
    "kernelspec": {
      "name": "python310-sdkv2",
      "language": "python",
      "display_name": "Python 3.10 - SDK v2"
    },
    "language_info": {
      "name": "python",
      "version": "3.10.10",
      "mimetype": "text/x-python",
      "codemirror_mode": {
        "name": "ipython",
        "version": 3
      },
      "pygments_lexer": "ipython3",
      "nbconvert_exporter": "python",
      "file_extension": ".py"
    },
    "microsoft": {
      "ms_spell_check": {
        "ms_spell_check_language": "en"
      },
      "host": {
        "AzureML": {
          "notebookHasBeenCompleted": true
        }
      }
    },
    "kernel_info": {
      "name": "python310-sdkv2"
    },
    "nteract": {
      "version": "nteract-front-end@1.0.0"
    }
  },
  "nbformat": 4,
  "nbformat_minor": 2
}
